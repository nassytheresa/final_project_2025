{
 "cells": [
  {
   "cell_type": "code",
   "execution_count": 1,
   "metadata": {},
   "outputs": [],
   "source": [
    "import time\n",
    "from datetime import datetime\n",
    "\n",
    "# Data extraction and storage\n",
    "from app.data.extract import  fetch_and_store_data\n",
    "\n",
    "# ETL pipeline\n",
    "from app.etl.extract import extract_crypto_data\n",
    "from app.etl.transform import transform_data\n",
    "from app.etl.load import save_analysis_results\n",
    "\n",
    "# Visualization\n",
    "from app.visualization.graphs import generate_all_graphs\n",
    "\n",
    "# Email\n",
    "from app.utils.email import send_email"
   ]
  },
  {
   "cell_type": "code",
   "execution_count": null,
   "metadata": {},
   "outputs": [],
   "source": [
    "fetch_and_store_data(pages=100, per_page=100, delay=1)"
   ]
  },
  {
   "cell_type": "code",
   "execution_count": 13,
   "metadata": {},
   "outputs": [],
   "source": [
    "def run_etl_pipeline(days: int = 1):\n",
    "    \"\"\"\n",
    "    Run the ETL pipeline for data analysis.\n",
    "\n",
    "    Args:\n",
    "        days: Number of days of historical data to analyze\n",
    "    \"\"\"\n",
    "    try:\n",
    "        print(f\"Starting ETL pipeline for last {days} days...\")\n",
    "\n",
    "        # Extract\n",
    "        print(\"Extracting data from MongoDB...\")\n",
    "        df = extract_crypto_data(days=days)\n",
    "        print(f\"Extracted {len(df)} records\")\n",
    "        print(f\"df: {df.head(5)}\")\n",
    "\n",
    "        # Transform\n",
    "        print(\"Transforming and analyzing data...\")\n",
    "        analysis_results = transform_data(df)\n",
    "        print(f\"analysis_results: {analysis_results}\")\n",
    "\n",
    "        # Load\n",
    "        print(\"Saving analysis results to MongoDB...\")\n",
    "        save_analysis_results(analysis_results)\n",
    "\n",
    "        # Send email\n",
    "        print(\"Sending email...\")\n",
    "        send_email(\n",
    "            subject=\"ETL pipeline completed successfully!\",\n",
    "            body=f\"ETL pipeline completed successfully! {analysis_results}\",\n",
    "            to_emails=[\"nassytheresa@gmail.com\"],\n",
    "        )\n",
    "        print(\"ETL pipeline completed successfully!\")\n",
    "    except Exception as e:\n",
    "        print(f\"Error: {e}\")\n",
    "        send_email(\n",
    "            subject=\"ETL pipeline failed!\",\n",
    "            body=f\"ETL pipeline failed! {e}\",\n",
    "            to_emails=[\"nassytheresa@gmail.com\"],\n",
    "        )\n",
    "    \n",
    "    return analysis_results"
   ]
  },
  {
   "cell_type": "code",
   "execution_count": null,
   "metadata": {},
   "outputs": [],
   "source": [
    "analysis_results = run_etl_pipeline(days=30*12)\n",
    "analysis_results"
   ]
  },
  {
   "cell_type": "code",
   "execution_count": null,
   "metadata": {},
   "outputs": [],
   "source": [
    "# Generate graphs from the analysis results\n",
    "graphs = generate_all_graphs(analysis_results)\n",
    "\n",
    "print(\"Market Cap Distribution\")\n",
    "graphs['market_cap_distribution'].show()\n",
    "\n",
    "print(\"\\nPrice Change Analysis\") \n",
    "graphs['price_change_analysis'].show()\n",
    "\n",
    "print(\"\\nSupply Utilization\")\n",
    "graphs['supply_utilization'].show()\n",
    "\n",
    "print(\"\\nTop Performers\")\n",
    "graphs['top_performers'].show()\n",
    "\n",
    "# save_graphs_to_html(graphs)"
   ]
  }
 ],
 "metadata": {
  "kernelspec": {
   "display_name": "venv",
   "language": "python",
   "name": "python3"
  },
  "language_info": {
   "codemirror_mode": {
    "name": "ipython",
    "version": 3
   },
   "file_extension": ".py",
   "mimetype": "text/x-python",
   "name": "python",
   "nbconvert_exporter": "python",
   "pygments_lexer": "ipython3",
   "version": "3.11.10"
  }
 },
 "nbformat": 4,
 "nbformat_minor": 2
}
